{
  "nbformat": 4,
  "nbformat_minor": 0,
  "metadata": {
    "colab": {
      "provenance": [],
      "authorship_tag": "ABX9TyPb3fBN628E8bpcxDtgarkB"
    },
    "kernelspec": {
      "name": "python3",
      "display_name": "Python 3"
    },
    "language_info": {
      "name": "python"
    }
  },
  "cells": [
    {
      "cell_type": "code",
      "execution_count": null,
      "metadata": {
        "id": "68X_vrhmIhnL"
      },
      "outputs": [],
      "source": [
        "#Converter de Decimal para Binário (Números Negativos e Fracionados)\n",
        "numero = float(input(\"Digite um número: \"))\n",
        "\n",
        "if numero < 0:\n",
        "    flag = 1\n",
        "    numero = abs(numero)\n",
        "else:\n",
        "    flag = 0\n",
        "\n",
        "parte_inteira = int(numero)\n",
        "parte_fracionaria = numero - parte_inteira\n",
        "\n",
        "lista = []\n",
        "\n",
        "while parte_inteira > 0:\n",
        "    resto = parte_inteira % 2\n",
        "    lista.append(int(resto))\n",
        "    parte_inteira = parte_inteira // 2\n",
        "\n",
        "lista.reverse()\n",
        "\n",
        "if flag == 1:\n",
        "    complemento_de_dois = []\n",
        "    carry = 1\n",
        "\n",
        "    for bit in lista:\n",
        "        novo_bit = (bit + carry) % 2\n",
        "        complemento_de_dois.append(novo_bit)\n",
        "        carry = (bit + carry) // 2  #\n",
        "\n",
        "    complemento_de_dois.reverse()\n",
        "\n",
        "    lista = complemento_de_dois\n",
        "\n",
        "lista.append('.')\n",
        "\n",
        "for _ in range(5):\n",
        "    parte_fracionaria *= 2\n",
        "    bit = int(parte_fracionaria)\n",
        "    lista.append(bit)\n",
        "    parte_fracionaria -= bit\n",
        "\n",
        "print(\"Número transformado para binário, abaixo:\")\n",
        "print(lista)\n"
      ]
    }
  ]
}